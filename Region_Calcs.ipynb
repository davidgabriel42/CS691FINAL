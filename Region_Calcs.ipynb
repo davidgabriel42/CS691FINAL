{
 "cells": [
  {
   "cell_type": "code",
   "execution_count": null,
   "metadata": {},
   "outputs": [],
   "source": [
    "import pandas as pd\n",
    "import numpy as np\n",
    "import pyarrow as pa\n",
    "import re\n",
    "import findspark\n",
    "findspark.init('/home/dave/spark-2.4.1-bin-hadoop2.7/')\n",
    "import pyspark\n",
    "import pyspark.sql.functions as F\n",
    "from pyspark.sql.types import *\n",
    "from pyspark.sql import *\n",
    "import sys\n",
    "import os\n",
    "from IPython.display import display, HTML\n",
    "from pyspark.sql.functions import pandas_udf, PandasUDFType\n",
    "%load ./py/loc_av.py\n",
    "\n",
    "\n",
    "datapath = \"/home/dave/Documents/CS691/proj/data/snotel/\"\n",
    "s1049=\"SNOTEL_1049_FORESTDALE_CREEK\"    \n",
    "s539=\"SNOTEL_539_INDEPENDENCE_CAMP\"\n",
    "s1050=\"SNOTEL_1050_HORSE_MEADOW\"        \n",
    "s540=\"SNOTEL_540_INDEPENDENCE_CREEK\"\n",
    "s1051=\"SNOTEL_1051_BURNSIDE_LAKE\"       \n",
    "s541=\"SNOTEL_541_INDEPENDENCE_LAKE\"\n",
    "s1067=\"SNOTEL_1067_CARSON_PASS\"         \n",
    "s615=\"SNOTEL_615_MARLETTE_LAKE\"\n",
    "s340=\"SNOTEL_340_BIG_MEADOW\"           \n",
    "s652=\"SNOTEL_652_MT_ROSE\"\n",
    "s356=\"SNOTEL_356_BLUE_LAKES\"          \n",
    "s428=\"SNOTEL_428_CSS_LAB\"              \n",
    "s724=\"SNOTEL_724_RUBICON\"\n",
    "s809=\"SNOTEL_809_TAHOE_CITY\"\n",
    "s463=\"SNOTEL_463_ECHO_PEAK\"            \n",
    "s834=\"SNOTEL_834_TRUCKEE\"\n",
    "s508=\"SNOTEL_508_HAGANS_MEADOW\"        \n",
    "s848=\"SNOTEL_848_WARD_CREEK\"\n",
    "s518=\"SNOTEL_518_HEAVENLY_VALLEY\"\n",
    "\n",
    "file1 = datapath+s848\n",
    "file2 = datapath+s518\n",
    "\n",
    "\n",
    "truckee = [s541,s540,s428,s834]\n",
    "west_shore = [s809,s848,s724]\n",
    "south_shore = [s518,s508,s1050,s463]\n",
    "mt_rose = [s340,s652,s615]\n",
    "hope_valley = [s1051,s1049,s1067,s356]\n",
    "\n",
    "print(file1)\n",
    "print(file2)\n",
    "\n",
    "spark = SparkSession.builder.appName(\"proj_exp\").getOrCreate()\n",
    "\n",
    "df = spark.read.text(file1)\n",
    "df.show()"
   ]
  },
  {
   "cell_type": "code",
   "execution_count": null,
   "metadata": {},
   "outputs": [],
   "source": []
  },
  {
   "cell_type": "code",
   "execution_count": null,
   "metadata": {},
   "outputs": [],
   "source": []
  },
  {
   "cell_type": "code",
   "execution_count": null,
   "metadata": {},
   "outputs": [],
   "source": []
  },
  {
   "cell_type": "code",
   "execution_count": null,
   "metadata": {},
   "outputs": [],
   "source": []
  },
  {
   "cell_type": "code",
   "execution_count": null,
   "metadata": {},
   "outputs": [],
   "source": []
  },
  {
   "cell_type": "code",
   "execution_count": null,
   "metadata": {},
   "outputs": [],
   "source": []
  },
  {
   "cell_type": "code",
   "execution_count": null,
   "metadata": {},
   "outputs": [],
   "source": []
  },
  {
   "cell_type": "code",
   "execution_count": null,
   "metadata": {},
   "outputs": [],
   "source": []
  },
  {
   "cell_type": "code",
   "execution_count": null,
   "metadata": {},
   "outputs": [],
   "source": []
  },
  {
   "cell_type": "code",
   "execution_count": null,
   "metadata": {},
   "outputs": [],
   "source": []
  },
  {
   "cell_type": "code",
   "execution_count": null,
   "metadata": {},
   "outputs": [],
   "source": []
  }
 ],
 "metadata": {
  "kernelspec": {
   "display_name": "Python 3",
   "language": "python",
   "name": "python3"
  },
  "language_info": {
   "codemirror_mode": {
    "name": "ipython",
    "version": 3
   },
   "file_extension": ".py",
   "mimetype": "text/x-python",
   "name": "python",
   "nbconvert_exporter": "python",
   "pygments_lexer": "ipython3",
   "version": "3.6.5"
  }
 },
 "nbformat": 4,
 "nbformat_minor": 2
}
