{
 "cells": [
  {
   "cell_type": "code",
   "execution_count": 15,
   "metadata": {
    "scrolled": false
   },
   "outputs": [
    {
     "name": "stdout",
     "output_type": "stream",
     "text": [
      "+--------------------+----------------+---------------+---+----+----+---+---+---+\n",
      "|               value|            Date|   Station Name|sid| swe|dswe| sd|dsd| at|\n",
      "+--------------------+----------------+---------------+---+----+----+---+---+---+\n",
      "|2009-04-01 00:00,...|2009-04-01 00:00|Heavenly Valley|518|18.6| 0.0| 50|  0| 33|\n",
      "|2009-04-01 01:00,...|2009-04-01 01:00|Heavenly Valley|518|18.5|-0.1| 49| -1| 32|\n",
      "|2009-04-01 02:00,...|2009-04-01 02:00|Heavenly Valley|518|18.5| 0.0| 49|  0| 32|\n",
      "|2009-04-01 03:00,...|2009-04-01 03:00|Heavenly Valley|518|18.5| 0.0| 50|  1| 31|\n",
      "|2009-04-01 04:00,...|2009-04-01 04:00|Heavenly Valley|518|18.5| 0.0| 50|  0| 31|\n",
      "|2009-04-01 05:00,...|2009-04-01 05:00|Heavenly Valley|518|18.4|-0.1| 50|  0| 30|\n",
      "|2009-04-01 06:00,...|2009-04-01 06:00|Heavenly Valley|518|18.4| 0.0| 50|  0| 29|\n",
      "|2009-04-01 07:00,...|2009-04-01 07:00|Heavenly Valley|518|18.5| 0.1| 50|  0| 28|\n",
      "|2009-04-01 08:00,...|2009-04-01 08:00|Heavenly Valley|518|18.4|-0.1| 48| -2| 35|\n",
      "|2009-04-01 09:00,...|2009-04-01 09:00|Heavenly Valley|518|18.2|-0.2| 48|  0| 37|\n",
      "|2009-04-01 10:00,...|2009-04-01 10:00|Heavenly Valley|518|18.2| 0.0| 48|  0| 40|\n",
      "|2009-04-01 11:00,...|2009-04-01 11:00|Heavenly Valley|518|18.2| 0.0| 48|  0| 42|\n",
      "|2009-04-01 12:00,...|2009-04-01 12:00|Heavenly Valley|518|18.3| 0.1| 46| -2| 43|\n",
      "|2009-04-01 13:00,...|2009-04-01 13:00|Heavenly Valley|518|18.3| 0.0| 46|  0| 43|\n",
      "|2009-04-01 14:00,...|2009-04-01 14:00|Heavenly Valley|518|18.3| 0.0| 46|  0| 42|\n",
      "|2009-04-01 15:00,...|2009-04-01 15:00|Heavenly Valley|518|18.3| 0.0| 45| -1| 44|\n",
      "|2009-04-01 16:00,...|2009-04-01 16:00|Heavenly Valley|518|18.4| 0.1| 45|  0| 44|\n",
      "|2009-04-01 17:00,...|2009-04-01 17:00|Heavenly Valley|518|18.4| 0.0| 47|  2| 42|\n",
      "|2009-04-01 18:00,...|2009-04-01 18:00|Heavenly Valley|518|18.3|-0.1| 48|  1| 38|\n",
      "|2009-04-01 19:00,...|2009-04-01 19:00|Heavenly Valley|518|18.3| 0.0| 48|  0| 34|\n",
      "+--------------------+----------------+---------------+---+----+----+---+---+---+\n",
      "only showing top 20 rows\n",
      "\n",
      "+----------------+---------------+---+----+----+---+---+---+----+\n",
      "|            Date|   Station Name|sid| swe|dswe| sd|dsd| at| dat|\n",
      "+----------------+---------------+---+----+----+---+---+---+----+\n",
      "|2009-04-01 00:00|Heavenly Valley|518|18.6| 0.0| 50|  0| 33| 0.0|\n",
      "|2009-04-01 01:00|Heavenly Valley|518|18.5|-0.1| 49| -1| 32|-1.0|\n",
      "|2009-04-01 02:00|Heavenly Valley|518|18.5| 0.0| 49|  0| 32| 0.0|\n",
      "|2009-04-01 03:00|Heavenly Valley|518|18.5| 0.0| 50|  1| 31|-1.0|\n",
      "|2009-04-01 04:00|Heavenly Valley|518|18.5| 0.0| 50|  0| 31| 0.0|\n",
      "|2009-04-01 05:00|Heavenly Valley|518|18.4|-0.1| 50|  0| 30|-1.0|\n",
      "|2009-04-01 06:00|Heavenly Valley|518|18.4| 0.0| 50|  0| 29|-1.0|\n",
      "|2009-04-01 07:00|Heavenly Valley|518|18.5| 0.1| 50|  0| 28|-1.0|\n",
      "|2009-04-01 08:00|Heavenly Valley|518|18.4|-0.1| 48| -2| 35| 7.0|\n",
      "|2009-04-01 09:00|Heavenly Valley|518|18.2|-0.2| 48|  0| 37| 2.0|\n",
      "|2009-04-01 10:00|Heavenly Valley|518|18.2| 0.0| 48|  0| 40| 3.0|\n",
      "|2009-04-01 11:00|Heavenly Valley|518|18.2| 0.0| 48|  0| 42| 2.0|\n",
      "|2009-04-01 12:00|Heavenly Valley|518|18.3| 0.1| 46| -2| 43| 1.0|\n",
      "|2009-04-01 13:00|Heavenly Valley|518|18.3| 0.0| 46|  0| 43| 0.0|\n",
      "|2009-04-01 14:00|Heavenly Valley|518|18.3| 0.0| 46|  0| 42|-1.0|\n",
      "|2009-04-01 15:00|Heavenly Valley|518|18.3| 0.0| 45| -1| 44| 2.0|\n",
      "|2009-04-01 16:00|Heavenly Valley|518|18.4| 0.1| 45|  0| 44| 0.0|\n",
      "|2009-04-01 17:00|Heavenly Valley|518|18.4| 0.0| 47|  2| 42|-2.0|\n",
      "|2009-04-01 18:00|Heavenly Valley|518|18.3|-0.1| 48|  1| 38|-4.0|\n",
      "|2009-04-01 19:00|Heavenly Valley|518|18.3| 0.0| 48|  0| 34|-4.0|\n",
      "+----------------+---------------+---+----+----+---+---+---+----+\n",
      "only showing top 20 rows\n",
      "\n",
      "+----------------+---------------+---+\n",
      "|            Date|   Station Name|sid|\n",
      "+----------------+---------------+---+\n",
      "|2009-04-01 00:00|Heavenly Valley|518|\n",
      "|2009-04-01 01:00|Heavenly Valley|518|\n",
      "|2009-04-01 02:00|Heavenly Valley|518|\n",
      "|2009-04-01 03:00|Heavenly Valley|518|\n",
      "|2009-04-01 04:00|Heavenly Valley|518|\n",
      "|2009-04-01 05:00|Heavenly Valley|518|\n",
      "|2009-04-01 06:00|Heavenly Valley|518|\n",
      "|2009-04-01 07:00|Heavenly Valley|518|\n",
      "|2009-04-01 08:00|Heavenly Valley|518|\n",
      "|2009-04-01 09:00|Heavenly Valley|518|\n",
      "|2009-04-01 10:00|Heavenly Valley|518|\n",
      "|2009-04-01 11:00|Heavenly Valley|518|\n",
      "|2009-04-01 12:00|Heavenly Valley|518|\n",
      "|2009-04-01 13:00|Heavenly Valley|518|\n",
      "|2009-04-01 14:00|Heavenly Valley|518|\n",
      "|2009-04-01 15:00|Heavenly Valley|518|\n",
      "|2009-04-01 16:00|Heavenly Valley|518|\n",
      "|2009-04-01 17:00|Heavenly Valley|518|\n",
      "|2009-04-01 18:00|Heavenly Valley|518|\n",
      "|2009-04-01 19:00|Heavenly Valley|518|\n",
      "+----------------+---------------+---+\n",
      "only showing top 20 rows\n",
      "\n"
     ]
    }
   ],
   "source": [
    "import pandas as pd\n",
    "import numpy as np\n",
    "import re\n",
    "import findspark\n",
    "findspark.init('/home/dave/spark-2.4.1-bin-hadoop2.7/')\n",
    "import pyspark\n",
    "import pyspark.sql.functions as F\n",
    "from pyspark.sql.types import *\n",
    "from pyspark.sql import *\n",
    "import sys\n",
    "import os\n",
    "\n",
    "datafile = \"/home/dave/Documents/CS691/proj/data/snotel/SNOTEL_518_Heavenly_Valley_CA\"\n",
    "\n",
    "spark = SparkSession.builder.appName(\"proj_exp\").getOrCreate()\n",
    "\n",
    "df = spark.read.text(datafile)\n",
    "\n",
    "df= df.filter(~ df.value.rlike('#'))\n",
    "df= df.filter(~ df.value.rlike('Date'))\n",
    "\n",
    "#split DF into Cols: Date,Station Name,Station Id,Snow Water Equivalent (in),Change In Snow Water Equivalent (in),\n",
    "#Snow Depth (in),Change In Snow Depth (in),Air Temperature Observed (degF),Barometric Pressure (inch_Hg),Dew Point \n",
    "#Temperature (degF),Wind Direction Observed (degree),Wind Speed Observed (mph)\n",
    "split_col = pyspark.sql.functions.split(df['value'], ',')\n",
    "\n",
    "df = df.withColumn('Date', split_col.getItem(0))\n",
    "df = df.withColumn('Station Name', split_col.getItem(1))\n",
    "df = df.withColumn('sid', split_col.getItem(2))\n",
    "df = df.withColumn('swe', split_col.getItem(3))\n",
    "df = df.withColumn('dswe', split_col.getItem(4))\n",
    "df = df.withColumn('sd', split_col.getItem(5))\n",
    "df = df.withColumn('dsd', split_col.getItem(6))\n",
    "df = df.withColumn('at', split_col.getItem(7))\n",
    "\n",
    "#df.show(n=20)\n",
    "\n",
    "#create delta air temp\n",
    "w = Window().partitionBy().orderBy(F.col(\"Date\"))\n",
    "df = df.select(\"*\", F.lag(\"at\").over(w).alias(\"prev_at\"))\n",
    "df = df.withColumn(\"dat\", F.when(F.isnull(df.at - df.prev_at), 0)\n",
    "                              .otherwise(df.at - df.prev_at))\n",
    "df = df.select('Date', 'Station Name', 'sid', 'swe', 'dswe', 'sd', 'dsd', 'at', 'dat')\n",
    "#df.show(n = 20)\n",
    "\n",
    "#map(lambda word: (word, 1))\n",
    "\n",
    "#make compass rose\n",
    "cr = df.select('Date', 'Station Name', 'sid')\n",
    "\n",
    "blankCr = df.select('at').rdd.map(lambda x: Row(1)).toDF()\n",
    "#cr = cr.withColumn('ww_bt', df.select('at').map(lambda x: 0))\n",
    "#cr = cr.withColumn('nw_bt',\n",
    "#cr = cr.withColumn('nn_bt', \n",
    "#cr = cr.withColumn('ne_bt',\n",
    "#cr = cr.withColumn('ee_bt', \n",
    "#cr = cr.withColumn('se_bt', \n",
    "#cr = cr.withColumn('ss_bt',\n",
    "#cr = cr.withColumn('sw_bt', \n",
    "#cr = cr.withColumn('ww_nt', \n",
    "#cr = cr.withColumn('nw_nt', \n",
    "#cr = cr.withColumn('nn_nt', \n",
    "#cr = cr.withColumn('ne_nt',\n",
    "#cr = cr.withColumn('ee_nt', \n",
    "#cr = cr.withColumn('se_nt', \n",
    "#cr = cr.withColumn('ss_nt', \n",
    "#cr = cr.withColumn('sw_nt', \n",
    "#cr = cr.withColumn('ww_at', \n",
    "#cr = cr.withColumn('nw_at', \n",
    "#cr = cr.withColumn('nn_at',\n",
    "#cr = cr.withColumn('ne_at',\n",
    "#cr = cr.withColumn('ee_at', \n",
    "#cr = cr.withColumn('se_at', \n",
    "#cr = cr.withColumn('ss_at', \n",
    "#cr = cr.withColumn('sw_at',\n",
    "\n",
    "cr.show(n=20)\n",
    "\n",
    "spark.stop()\n"
   ]
  },
  {
   "cell_type": "code",
   "execution_count": null,
   "metadata": {},
   "outputs": [],
   "source": []
  },
  {
   "cell_type": "code",
   "execution_count": null,
   "metadata": {},
   "outputs": [],
   "source": []
  },
  {
   "cell_type": "code",
   "execution_count": null,
   "metadata": {},
   "outputs": [],
   "source": []
  },
  {
   "cell_type": "code",
   "execution_count": null,
   "metadata": {},
   "outputs": [],
   "source": []
  },
  {
   "cell_type": "code",
   "execution_count": null,
   "metadata": {},
   "outputs": [],
   "source": []
  },
  {
   "cell_type": "code",
   "execution_count": null,
   "metadata": {},
   "outputs": [],
   "source": []
  },
  {
   "cell_type": "code",
   "execution_count": null,
   "metadata": {},
   "outputs": [],
   "source": []
  },
  {
   "cell_type": "code",
   "execution_count": null,
   "metadata": {},
   "outputs": [],
   "source": []
  },
  {
   "cell_type": "code",
   "execution_count": null,
   "metadata": {},
   "outputs": [],
   "source": []
  },
  {
   "cell_type": "code",
   "execution_count": null,
   "metadata": {},
   "outputs": [],
   "source": []
  },
  {
   "cell_type": "code",
   "execution_count": null,
   "metadata": {},
   "outputs": [],
   "source": []
  },
  {
   "cell_type": "code",
   "execution_count": null,
   "metadata": {},
   "outputs": [],
   "source": []
  },
  {
   "cell_type": "code",
   "execution_count": null,
   "metadata": {},
   "outputs": [],
   "source": []
  },
  {
   "cell_type": "code",
   "execution_count": null,
   "metadata": {},
   "outputs": [],
   "source": []
  },
  {
   "cell_type": "code",
   "execution_count": null,
   "metadata": {},
   "outputs": [],
   "source": []
  },
  {
   "cell_type": "code",
   "execution_count": null,
   "metadata": {},
   "outputs": [],
   "source": []
  },
  {
   "cell_type": "code",
   "execution_count": null,
   "metadata": {},
   "outputs": [],
   "source": []
  },
  {
   "cell_type": "code",
   "execution_count": null,
   "metadata": {},
   "outputs": [],
   "source": []
  },
  {
   "cell_type": "code",
   "execution_count": null,
   "metadata": {},
   "outputs": [],
   "source": []
  },
  {
   "cell_type": "code",
   "execution_count": null,
   "metadata": {},
   "outputs": [],
   "source": []
  },
  {
   "cell_type": "code",
   "execution_count": null,
   "metadata": {},
   "outputs": [],
   "source": []
  },
  {
   "cell_type": "code",
   "execution_count": null,
   "metadata": {},
   "outputs": [],
   "source": []
  },
  {
   "cell_type": "code",
   "execution_count": null,
   "metadata": {},
   "outputs": [],
   "source": []
  },
  {
   "cell_type": "code",
   "execution_count": null,
   "metadata": {},
   "outputs": [],
   "source": []
  },
  {
   "cell_type": "code",
   "execution_count": null,
   "metadata": {},
   "outputs": [],
   "source": []
  },
  {
   "cell_type": "code",
   "execution_count": null,
   "metadata": {},
   "outputs": [],
   "source": []
  },
  {
   "cell_type": "code",
   "execution_count": null,
   "metadata": {},
   "outputs": [],
   "source": []
  },
  {
   "cell_type": "code",
   "execution_count": null,
   "metadata": {},
   "outputs": [],
   "source": []
  },
  {
   "cell_type": "code",
   "execution_count": null,
   "metadata": {},
   "outputs": [],
   "source": []
  },
  {
   "cell_type": "code",
   "execution_count": null,
   "metadata": {},
   "outputs": [],
   "source": []
  },
  {
   "cell_type": "code",
   "execution_count": null,
   "metadata": {},
   "outputs": [],
   "source": []
  },
  {
   "cell_type": "code",
   "execution_count": null,
   "metadata": {},
   "outputs": [],
   "source": []
  },
  {
   "cell_type": "code",
   "execution_count": null,
   "metadata": {},
   "outputs": [],
   "source": []
  },
  {
   "cell_type": "code",
   "execution_count": null,
   "metadata": {},
   "outputs": [],
   "source": []
  },
  {
   "cell_type": "code",
   "execution_count": null,
   "metadata": {},
   "outputs": [],
   "source": []
  },
  {
   "cell_type": "code",
   "execution_count": null,
   "metadata": {},
   "outputs": [],
   "source": []
  },
  {
   "cell_type": "code",
   "execution_count": null,
   "metadata": {},
   "outputs": [],
   "source": []
  },
  {
   "cell_type": "code",
   "execution_count": null,
   "metadata": {},
   "outputs": [],
   "source": []
  },
  {
   "cell_type": "code",
   "execution_count": null,
   "metadata": {},
   "outputs": [],
   "source": []
  },
  {
   "cell_type": "code",
   "execution_count": null,
   "metadata": {},
   "outputs": [],
   "source": []
  },
  {
   "cell_type": "code",
   "execution_count": null,
   "metadata": {},
   "outputs": [],
   "source": []
  },
  {
   "cell_type": "code",
   "execution_count": null,
   "metadata": {},
   "outputs": [],
   "source": []
  },
  {
   "cell_type": "code",
   "execution_count": null,
   "metadata": {},
   "outputs": [],
   "source": []
  },
  {
   "cell_type": "code",
   "execution_count": null,
   "metadata": {},
   "outputs": [],
   "source": []
  },
  {
   "cell_type": "code",
   "execution_count": null,
   "metadata": {},
   "outputs": [],
   "source": []
  },
  {
   "cell_type": "code",
   "execution_count": null,
   "metadata": {},
   "outputs": [],
   "source": []
  },
  {
   "cell_type": "code",
   "execution_count": null,
   "metadata": {},
   "outputs": [],
   "source": []
  },
  {
   "cell_type": "code",
   "execution_count": null,
   "metadata": {},
   "outputs": [],
   "source": []
  },
  {
   "cell_type": "code",
   "execution_count": null,
   "metadata": {},
   "outputs": [],
   "source": []
  },
  {
   "cell_type": "code",
   "execution_count": null,
   "metadata": {},
   "outputs": [],
   "source": []
  },
  {
   "cell_type": "code",
   "execution_count": null,
   "metadata": {},
   "outputs": [],
   "source": []
  },
  {
   "cell_type": "code",
   "execution_count": null,
   "metadata": {},
   "outputs": [],
   "source": []
  },
  {
   "cell_type": "code",
   "execution_count": null,
   "metadata": {},
   "outputs": [],
   "source": []
  },
  {
   "cell_type": "code",
   "execution_count": null,
   "metadata": {},
   "outputs": [],
   "source": []
  },
  {
   "cell_type": "code",
   "execution_count": null,
   "metadata": {},
   "outputs": [],
   "source": []
  },
  {
   "cell_type": "code",
   "execution_count": null,
   "metadata": {},
   "outputs": [],
   "source": []
  },
  {
   "cell_type": "code",
   "execution_count": null,
   "metadata": {},
   "outputs": [],
   "source": []
  },
  {
   "cell_type": "code",
   "execution_count": null,
   "metadata": {},
   "outputs": [],
   "source": []
  },
  {
   "cell_type": "code",
   "execution_count": null,
   "metadata": {},
   "outputs": [],
   "source": []
  },
  {
   "cell_type": "code",
   "execution_count": null,
   "metadata": {},
   "outputs": [],
   "source": []
  },
  {
   "cell_type": "code",
   "execution_count": null,
   "metadata": {},
   "outputs": [],
   "source": []
  },
  {
   "cell_type": "code",
   "execution_count": null,
   "metadata": {},
   "outputs": [],
   "source": []
  },
  {
   "cell_type": "code",
   "execution_count": null,
   "metadata": {},
   "outputs": [],
   "source": []
  },
  {
   "cell_type": "code",
   "execution_count": null,
   "metadata": {},
   "outputs": [],
   "source": []
  },
  {
   "cell_type": "code",
   "execution_count": null,
   "metadata": {},
   "outputs": [],
   "source": []
  },
  {
   "cell_type": "code",
   "execution_count": null,
   "metadata": {},
   "outputs": [],
   "source": []
  },
  {
   "cell_type": "code",
   "execution_count": null,
   "metadata": {},
   "outputs": [],
   "source": []
  },
  {
   "cell_type": "code",
   "execution_count": null,
   "metadata": {},
   "outputs": [],
   "source": []
  },
  {
   "cell_type": "code",
   "execution_count": null,
   "metadata": {},
   "outputs": [],
   "source": []
  },
  {
   "cell_type": "code",
   "execution_count": null,
   "metadata": {},
   "outputs": [],
   "source": []
  },
  {
   "cell_type": "code",
   "execution_count": null,
   "metadata": {},
   "outputs": [],
   "source": []
  },
  {
   "cell_type": "code",
   "execution_count": null,
   "metadata": {},
   "outputs": [],
   "source": []
  },
  {
   "cell_type": "code",
   "execution_count": null,
   "metadata": {},
   "outputs": [],
   "source": []
  }
 ],
 "metadata": {
  "kernelspec": {
   "display_name": "Python 3",
   "language": "python",
   "name": "python3"
  },
  "language_info": {
   "codemirror_mode": {
    "name": "ipython",
    "version": 3
   },
   "file_extension": ".py",
   "mimetype": "text/x-python",
   "name": "python",
   "nbconvert_exporter": "python",
   "pygments_lexer": "ipython3",
   "version": "3.6.5"
  }
 },
 "nbformat": 4,
 "nbformat_minor": 2
}
